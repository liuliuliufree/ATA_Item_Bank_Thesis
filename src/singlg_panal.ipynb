{
 "cells": [
  {
   "cell_type": "markdown",
   "metadata": {},
   "source": [
    "A mathematical optimization model has five components:\n",
    "\n",
    "* Sets\n",
    "* Parameters\n",
    "* Decision variables\n",
    "* Constraints\n",
    "* Objective function(s)"
   ]
  },
  {
   "cell_type": "code",
   "execution_count": 2,
   "metadata": {},
   "outputs": [],
   "source": [
    "import gurobipy as gp\n",
    "from gurobipy import GRB\n",
    "from __future__ import print_function\n",
    "import sys"
   ]
  },
  {
   "cell_type": "markdown",
   "metadata": {},
   "source": [
    "## 自动组卷问题\n",
    "### 数据集定义如下\n",
    "The list $T$ contains the names of the 45 Testlets: C1_1~C1_5, S1_1~S1_24, S2_1~S2_16.\n",
    "\n",
    "The list $M$ contains the names of the Modules: Cons Stage, Stage 1H, Stage 1L, Stage 2H, Stage 2L.\n",
    "\n",
    "$t \\in T$: index and set of testlets. The testlet $t$ belongs to the set of testlets $T$.\n",
    "\n",
    "$m \\in M$: index and set of modules. The module $m$ belongs to the set of modules $M$.\n"
   ]
  },
  {
   "cell_type": "code",
   "execution_count": 3,
   "metadata": {},
   "outputs": [],
   "source": [
    "# Testlet and module sets\n",
    "T = ['C1_1','C1_2','C1_3','C1_4','C1_5',\n",
    "     'S1_1','S1_2','S1_3','S1_4','S1_5','S1_6','S1_7','S1_8','S1_9','S1_10','S1_11','S1_12','S1_13','S1_14','S1_15','S1_16','S1_17','S1_18','S1_19','S1_20','S1_21','S1_22','S1_23','S1_24',\n",
    "     'S2_1','S2_2','S2_3','S2_4','S2_5','S2_6','S2_7','S2_8','S2_9','S2_10','S2_11','S2_12','S2_13','S2_14','S2_15','S2_16']\n",
    "M = ['Core_Stage','Stage_1H','Stage_1L','Stage_2H','Stage_2L']\n",
    "\n",
    "L = ['level1c','level1b','level1a','level2','level3','level4','level5','level6']"
   ]
  },
  {
   "cell_type": "code",
   "execution_count": 4,
   "metadata": {},
   "outputs": [
    {
     "name": "stdout",
     "output_type": "stream",
     "text": [
      "Restricted license - for non-production use only - expires 2025-11-24\n"
     ]
    }
   ],
   "source": [
    "# 定义并初始化SPATA(single panal automated test asembly)模型\n",
    "model = gp.Model('SP_ATA')"
   ]
  },
  {
   "cell_type": "markdown",
   "metadata": {},
   "source": [
    "## 决策变量"
   ]
  },
  {
   "cell_type": "markdown",
   "metadata": {},
   "source": [
    "| Decision Variables | Core Stage = 1 | Stage 1H = 2 | Stage 1L = 3 | Stage 2H = 4 | Stage 2L = 5 |\n",
    "| ------------------ | -------------- | ------------ | ------------ | ------------ | ------------ |\n",
    "| C1_1 = 1               | $x_{1 ,1}$               | $x_{1 ,2}$             | $x_{1 ,3}$             | $x_{1 ,4}$             | $x_{1 ,5}$             |\n",
    "| C1_2 = 2               | $x_{2 ,1}$               | $x_{2 ,2}$             | $x_{2 ,3}$             | $x_{2 ,4}$             | $x_{2 ,5}$             |\n",
    "| C1_3 = 3               | $x_{3 ,1}$               | $x_{3 ,2}$             | $x_{3 ,3}$             | $x_{3 ,4}$             | $x_{3 ,5}$             |\n",
    "| C1_4 = 4               | $x_{4 ,1}$               | $x_{4 ,2}$             | $x_{4 ,3}$             | $x_{4 ,4}$             | $x_{4 ,5}$             |\n",
    "| C1_5 = 5               | $x_{5 ,1}$               | $x_{5 ,2}$             | $x_{5 ,3}$             | $x_{5 ,4}$             | $x_{5 ,5}$             |\n",
    "| S1_1 = 6               | $x_{6 ,1}$               | $x_{6 ,2}$             | $x_{6 ,3}$             | $x_{6 ,4}$             | $x_{6 ,5}$             |\n",
    "| S1_2 = 7               | $x_{7 ,1}$               | $x_{7 ,2}$             | $x_{7 ,3}$             | $x_{7 ,4}$             | $x_{7 ,5}$             |\n",
    "| S1_3 = 8               | $x_{8 ,1}$               | $x_{8 ,2}$             | $x_{8 ,3}$             | $x_{8 ,4}$             | $x_{8 ,5}$             |\n",
    "| S1_4 = 9               | $x_{9 ,1}$               | $x_{9 ,2}$             | $x_{9 ,3}$             | $x_{9 ,4}$             | $x_{9 ,5}$             |\n",
    "| S1_5 = 10              | $x_{10,1}$               | $x_{10,2}$             | $x_{10,3}$             | $x_{10,4}$             | $x_{10,5}$             |\n",
    "| S1_6 = 11              | $x_{11,1}$               | $x_{11,2}$             | $x_{11,3}$             | $x_{11,4}$             | $x_{11,5}$             |\n",
    "| S1_7 = 12              | $x_{12,1}$               | $x_{12,2}$             | $x_{12,3}$             | $x_{12,4}$             | $x_{12,5}$             |\n",
    "| S1_8 = 13              | $x_{13,1}$               | $x_{13,2}$             | $x_{13,3}$             | $x_{13,4}$             | $x_{13,5}$             |\n",
    "| S1_9 = 14              | $x_{14,1}$               | $x_{14,2}$             | $x_{14,3}$             | $x_{14,4}$             | $x_{14,5}$             |\n",
    "| S1_10= 15              | $x_{15,1}$               | $x_{15,2}$             | $x_{15,3}$             | $x_{15,4}$             | $x_{15,5}$             |\n",
    "| S1_11= 16              | $x_{16,1}$               | $x_{16,2}$             | $x_{16,3}$             | $x_{16,4}$             | $x_{16,5}$             |\n",
    "| S1_12= 17              | $x_{17,1}$               | $x_{17,2}$             | $x_{17,3}$             | $x_{17,4}$             | $x_{17,5}$             |\n",
    "| S1_13= 18              | $x_{18,1}$               | $x_{18,2}$             | $x_{18,3}$             | $x_{18,4}$             | $x_{18,5}$             |\n",
    "| S1_14= 19              | $x_{19,1}$               | $x_{19,2}$             | $x_{19,3}$             | $x_{19,4}$             | $x_{19,5}$             |\n",
    "| S1_15= 20              | $x_{20,1}$               | $x_{20,2}$             | $x_{20,3}$             | $x_{20,4}$             | $x_{20,5}$             |\n",
    "| S1_16= 21              | $x_{21,1}$               | $x_{21,2}$             | $x_{21,3}$             | $x_{21,4}$             | $x_{21,5}$             |\n",
    "| S1_17= 22              | $x_{22,1}$               | $x_{22,2}$             | $x_{22,3}$             | $x_{22,4}$             | $x_{22,5}$             |\n",
    "| S1_18= 23              | $x_{23,1}$               | $x_{23,2}$             | $x_{23,3}$             | $x_{23,4}$             | $x_{23,5}$             |\n",
    "| S1_19= 24              | $x_{24,1}$               | $x_{24,2}$             | $x_{24,3}$             | $x_{24,4}$             | $x_{24,5}$             |\n",
    "| S1_20= 25              | $x_{25,1}$               | $x_{25,2}$             | $x_{25,3}$             | $x_{25,4}$             | $x_{25,5}$             |\n",
    "| S1_21= 26              | $x_{26,1}$               | $x_{26,2}$             | $x_{26,3}$             | $x_{26,4}$             | $x_{26,5}$             |\n",
    "| S1_22= 27              | $x_{27,1}$               | $x_{27,2}$             | $x_{27,3}$             | $x_{27,4}$             | $x_{27,5}$             |\n",
    "| S1_23= 28              | $x_{28,1}$               | $x_{28,2}$             | $x_{28,3}$             | $x_{28,4}$             | $x_{28,5}$             |\n",
    "| S1_24= 29              | $x_{29,1}$               | $x_{29,2}$             | $x_{29,3}$             | $x_{29,4}$             | $x_{29,5}$             |\n",
    "| S2_1 = 30              | $x_{30,1}$               | $x_{30,2}$             | $x_{30,3}$             | $x_{30,4}$             | $x_{30,5}$             |\n",
    "| S2_2 = 31              | $x_{31,1}$               | $x_{31,2}$             | $x_{31,3}$             | $x_{31,4}$             | $x_{31,5}$             |\n",
    "| S2_3 = 32              | $x_{32,1}$               | $x_{32,2}$             | $x_{32,3}$             | $x_{32,4}$             | $x_{32,5}$             |\n",
    "| S2_4 = 33              | $x_{33,1}$               | $x_{33,2}$             | $x_{33,3}$             | $x_{33,4}$             | $x_{33,5}$             |\n",
    "| S2_5 = 34              | $x_{34,1}$               | $x_{34,2}$             | $x_{34,3}$             | $x_{34,4}$             | $x_{34,5}$             |\n",
    "| S2_6 = 35              | $x_{35,1}$               | $x_{35,2}$             | $x_{35,3}$             | $x_{35,4}$             | $x_{35,5}$             |\n",
    "| S2_7 = 36              | $x_{36,1}$               | $x_{36,2}$             | $x_{36,3}$             | $x_{36,4}$             | $x_{36,5}$             |\n",
    "| S2_8 = 37              | $x_{37,1}$               | $x_{37,2}$             | $x_{37,3}$             | $x_{37,4}$             | $x_{37,5}$             |\n",
    "| S2_9 = 38              | $x_{38,1}$               | $x_{38,2}$             | $x_{38,3}$             | $x_{38,4}$             | $x_{38,5}$             |\n",
    "| S2_10= 39              | $x_{39,1}$               | $x_{39,2}$             | $x_{39,3}$             | $x_{39,4}$             | $x_{39,5}$             |\n",
    "| S2_11= 40              | $x_{40,1}$               | $x_{40,2}$             | $x_{40,3}$             | $x_{40,4}$             | $x_{40,5}$             |\n",
    "| S2_12= 41              | $x_{41,1}$               | $x_{41,2}$             | $x_{41,3}$             | $x_{41,4}$             | $x_{41,5}$             |\n",
    "| S2_13= 42              | $x_{42,1}$               | $x_{42,2}$             | $x_{42,3}$             | $x_{42,4}$             | $x_{42,5}$             |\n",
    "| S2_14= 43              | $x_{43,1}$               | $x_{43,2}$             | $x_{43,3}$             | $x_{43,4}$             | $x_{43,5}$             |\n",
    "| S2_15= 44              | $x_{44,1}$               | $x_{44,2}$             | $x_{44,3}$             | $x_{44,4}$             | $x_{44,5}$             |\n",
    "| S2_16= 45              | $x_{45,1}$               | $x_{45,2}$             | $x_{45,3}$             | $x_{45,4}$             | $x_{45,5}$             |"
   ]
  },
  {
   "cell_type": "code",
   "execution_count": 5,
   "metadata": {},
   "outputs": [],
   "source": [
    "# 为SPATA模型设定决策变量\n",
    "_combinations = [(t, m) for t in T for m in M]\n",
    "combinations = gp.tuplelist(_combinations)\n",
    "x = model.addVars(combinations, vtype=GRB.BINARY, name=\"assign\")\n",
    "\n",
    "# 设置各个题组的各种属性\n",
    "import pandas as pd\n",
    "bank = pd.read_csv('../bank_testlet.csv',index_col=0)\n",
    "\n",
    "\"\"\"\n",
    " value是按照如下顺序输入的：\n",
    " 0: total_num\t\n",
    " 1: au_total_num\n",
    " \n",
    " 2: Level_1a \n",
    " 3: Level_1b \n",
    " 4: Level_1c\t\n",
    " 5: Level_2\t\n",
    " 6: Level_3\t\n",
    " 7: Level_4\t\n",
    " 8: Level_5\t\n",
    " 9: Level_6\t\n",
    " \n",
    " 10: Argumentative \n",
    " 11: Description \n",
    " 12: Exposition \n",
    " 13: Instruction \n",
    " 14: Multiple \n",
    " 15: Narrative \n",
    " 16: Transactional\t\n",
    " \n",
    " 17: Educational \n",
    " 18: Multiple \n",
    " 19: Occupational \n",
    " 20: Personal \n",
    " 21: Public\t\n",
    "\n",
    " 22: Assess_quality_and_credibility\t\n",
    " 23: Corroborate_and_handle_conflict\t\n",
    " 24: Integrate_and_generate_inferences \n",
    " 25: Reflect_on_content_and_form \n",
    " 26: Represent_literal_meaning\t\n",
    " 27: Scan_and_locate\t\n",
    " 28: Search_and_select_relevant_text\n",
    " \n",
    " 29: Complex_Multiple_Choice\n",
    " 30: Open_Response\n",
    " 31: Simple_Multiple_Choice\n",
    "\"\"\"\n",
    "contributes = {} \n",
    "for t in T:\n",
    "    contributes[t] = list(bank.loc[t])"
   ]
  },
  {
   "cell_type": "markdown",
   "metadata": {},
   "source": [
    "## 模块水平约束"
   ]
  },
  {
   "cell_type": "markdown",
   "metadata": {},
   "source": [
    "### 不同Level水平的项目数占比"
   ]
  },
  {
   "cell_type": "markdown",
   "metadata": {},
   "source": [
    "- Core Stage\n",
    "    $$\n",
    "    \\sum_{t \\in T}l6_tx_{t,1} = 0 \\\\\n",
    "    \\sum_{t \\in T}(l2_t+l3_t)x_{t,1} \\geq 0.7\\cdot \\sum_{t \\in T}n1_tx_{t,1} \n",
    "    $$\n",
    "\n",
    "- Stage 1H\n",
    "    $$\n",
    "    \\sum_{t \\in T}(l1c_t+l1b_t)x_{t,2} = 0 \\\\\n",
    "    \\\\\n",
    "    \\sum_{t \\in T}(l3_t+l4_t+l5_t)x_{t,2} \\geq 0.7\\cdot \\sum_{t \\in T}n1_tx_{t,2} \n",
    "    $$\n",
    "    \n",
    "- Stage 1L\n",
    "    $$\n",
    "    \\sum_{t \\in T}l6_tx_{t,3} = 0 \\\\\n",
    "    \\sum_{t \\in T}(l1a_t+l2_t+l3_t)x_{t,3} \\geq 0.7\\cdot \\sum_{t \\in T}n1_tx_{t,3} \n",
    "    $$\n",
    "\n",
    "- Stage 2H\n",
    "    $$\n",
    "    \\sum_{t \\in T}(l1c_t+l1b_t)x_{t,4} = 0\\\\\n",
    "    \\\\\n",
    "    \\sum_{t \\in T}(l3_t+l4_t+l5_t)x_{t,4} \\geq 0.7\\cdot \\sum_{t \\in T}\n",
    "    n1_tx_{t,4} \n",
    "    $$\n",
    "\n",
    "- Stage 2L\n",
    "    $$\n",
    "    \\sum_{t \\in T}l6_tx_{t,5} = 0 \\\\\n",
    "    \\sum_{t \\in T}(l1a_t+l2_t+l3_t)x_{t,5} \\geq 0.7\\cdot \\sum_{t \\in T}n1_tx_{t,5} \n",
    "    $$"
   ]
  },
  {
   "cell_type": "code",
   "execution_count": 6,
   "metadata": {},
   "outputs": [],
   "source": [
    "# Core Stage\n",
    "Cons_LevelRatioCore_0 = model.addConstr(sum([contributes[t][9] * x[t,'Core_Stage'] for t in T]) == 0, name='Cons_LevelRatioCore_0')\n",
    "Cons_LevelRatioCore_1 = model.addConstr(sum([(contributes[t][5]+contributes[t][6]) * x[t,'Core_Stage'] for t in T]) >= 0.7 * sum([contributes[t][0] * x[t,'Core_Stage'] for t in T]), name='Cons_LevelRatioCore_1')\n",
    "\n",
    "# Stage 1\n",
    "Cons_LevelRatioStage1H_0 = model.addConstr(sum([(contributes[t][3]+contributes[t][4]) * x[t,'Stage_1H'] for t in T]) == 0, name='Cons_LevelRatioStage1H_0')\n",
    "\n",
    "Cons_LevelRatioStage1H_1 = model.addConstr(sum([(contributes[t][6]+contributes[t][7]+contributes[t][8]) * x[t,'Stage_1H'] for t in T]) >= 0.7 * sum([contributes[t][0] * x[t,'Core_Stage'] for t in T]), name='Cons_LevelRatioStage1H_1')\n",
    "\n",
    "Cons_LevelRatioStage1L_0 = model.addConstr(sum([contributes[t][9] * x[t,'Stage_1L'] for t in T]) == 0, name='Cons_LevelRatioStage1L_0')\n",
    "\n",
    "Cons_LevelRatioStage1L_1 = model.addConstr(sum([(contributes[t][2]+contributes[t][5]+contributes[t][6]) * x[t,'Stage_1L'] for t in T]) >= 0.7 * sum([contributes[t][0] * x[t,'Stage_1L'] for t in T]), name='Cons_LevelRatioStage1L_1')\n",
    "\n",
    "# Stage 2\n",
    "Cons_LevelRatioStage2H_0 = model.addConstr(sum([(contributes[t][3]+contributes[t][4]) * x[t,'Stage_2H'] for t in T]) == 0, name='Cons_LevelRatioStage2H_0')\n",
    "\n",
    "Cons_LevelRatioStage2H_1 = model.addConstr(sum([(contributes[t][6]+contributes[t][7]+contributes[t][8]) * x[t,'Stage_2H'] for t in T]) >= 0.7 * sum([contributes[t][0] * x[t,'Core_Stage'] for t in T]), name='Cons_LevelRatioStage2H_1')\n",
    "\n",
    "Cons_LevelRatioStage2L_0 = model.addConstr(sum([contributes[t][9] * x[t,'Stage_2L'] for t in T]) == 0, name='Cons_LevelRatioStage2L_0')\n",
    "\n",
    "Cons_LevelRatioStage2L_1 = model.addConstr(sum([(contributes[t][2] + contributes[t][5]+contributes[t][6]) * x[t,'Stage_2L'] for t in T]) >= 0.7 * sum([contributes[t][0] * x[t,'Stage_2L'] for t in T]), name='Cons_LevelRatioStage2L_1')\n"
   ]
  },
  {
   "cell_type": "markdown",
   "metadata": {},
   "source": [
    "### 每个模块的题组数量\n",
    "\n"
   ]
  },
  {
   "cell_type": "markdown",
   "metadata": {},
   "source": [
    "- Core Stage\n",
    "    $$\n",
    "    \\sum_{t \\in T} x_{t,1} = 2\n",
    "    $$\n",
    "\n",
    "- Stage 1H\n",
    "    $$\n",
    "    \\sum_{t \\in T} x_{t,2} = 3\n",
    "    $$\n",
    "- Stage 1L\n",
    "    $$\n",
    "    \\sum_{t \\in T} x_{t,3} = 3\n",
    "    $$\n",
    "\n",
    "- Stage 2H\n",
    "    $$\n",
    "    \\sum_{t \\in T} x_{t,4} = 2\n",
    "    $$\n",
    "\n",
    "- Stage 2L\n",
    "    $$\n",
    "    \\sum_{t \\in T} x_{t,5} = 2\n",
    "    $$"
   ]
  },
  {
   "cell_type": "code",
   "execution_count": 7,
   "metadata": {},
   "outputs": [],
   "source": [
    "TestletsNumberPerModule = [2,3,3,2,2]\n",
    "Cons_TestletsNumberPerModule = model.addConstrs((x.sum('*',m) == TestletsNumberPerModule[i] for i,m in enumerate(M)), name='Cons_TestletsNumberPerModule')"
   ]
  },
  {
   "cell_type": "markdown",
   "metadata": {},
   "source": [
    "### 每个模块的长度(总长度与自动评分长度)"
   ]
  },
  {
   "cell_type": "markdown",
   "metadata": {},
   "source": [
    "- Core Stage\n",
    "    $$\n",
    "     7 \\leq \\sum_{t \\in T} n1_tx_{t,1} \\leq 10 \\\\\n",
    "     7 \\leq \\sum_{t \\in T} n2_tx_{t,1} \\leq 9\n",
    "    $$\n",
    "\n",
    "- Stage 1H\n",
    "    $$\n",
    "     12 \\leq \\sum_{t \\in T} n1_tx_{t,2}  \\leq 16 \\\\\n",
    "     8 \\leq \\sum_{t \\in T} n2_tx_{t,2}  \\leq 11\n",
    "    $$\n",
    "- Stage 1L\n",
    "    $$\n",
    "     12 \\leq \\sum_{t \\in T} n1_tx_{t,3}  \\leq 16 \\\\\n",
    "     8 \\leq \\sum_{t \\in T} n2_tx_{t,3}  \\leq 11\n",
    "    $$\n",
    "\n",
    "- Stage 2H\n",
    "    $$\n",
    "     12 \\leq \\sum_{t \\in T} n1_tx_{t,4}  \\leq 14 \n",
    "    $$\n",
    "\n",
    "- Stage 2L\n",
    "    $$\n",
    "     12 \\leq \\sum_{t \\in T} n1_tx_{t,5}  \\leq 14\n",
    "    $$"
   ]
  },
  {
   "cell_type": "code",
   "execution_count": 8,
   "metadata": {},
   "outputs": [],
   "source": [
    "ItemsNumberPerModule_LB = [7,12,12,12,12]\n",
    "ItemsNumberPerModule_UB = [10,16,16,14,14]\n",
    "\n",
    "# Core Stage\n",
    "Cons_ItemsNumberCore_LB = model.addConstr(sum([contributes[t][0] * x[t,'Core_Stage'] for t in T]) >= ItemsNumberPerModule_LB[0], name='Cons_ItemsNumberCore_LB')\n",
    "Cons_ItemsNumberCore_UB = model.addConstr(sum([contributes[t][0] * x[t,'Core_Stage'] for t in T]) <= ItemsNumberPerModule_UB[0] , name='Cons_ItemsNumberCore_UB')\n",
    "\n",
    "# Stage 1\n",
    "Cons_ItemsNumberStage1H_LB = model.addConstr(sum([contributes[t][0] * x[t,'Stage_1H'] for t in T]) >= ItemsNumberPerModule_LB[1], name='Cons_ItemsNumberStage1H_LB')\n",
    "Cons_ItemsNumberStage1H_UB = model.addConstr(sum([contributes[t][0] * x[t,'Stage_1H'] for t in T]) <= ItemsNumberPerModule_UB[1] , name='Cons_ItemsNumberStage1H_UB')\n",
    "\n",
    "Cons_ItemsNumberStage1L_LB = model.addConstr(sum([contributes[t][0] * x[t,'Stage_1L'] for t in T]) >= ItemsNumberPerModule_LB[2], name='Cons_ItemsNumberStage1L_LB')\n",
    "Cons_ItemsNumberStage1L_UB = model.addConstr(sum([contributes[t][0] * x[t,'Stage_1L'] for t in T]) <= ItemsNumberPerModule_UB[2] , name='Cons_ItemsNumberStage1L_UB')\n",
    "\n",
    "# Stage 2\n",
    "Cons_ItemsNumberStage2H_LB = model.addConstr(sum([contributes[t][0] * x[t,'Stage_2H'] for t in T]) >= ItemsNumberPerModule_LB[3], name='Cons_ItemsNumberStage2H_LB')\n",
    "Cons_ItemsNumberStage2H_UB = model.addConstr(sum([contributes[t][0] * x[t,'Stage_2H'] for t in T]) <= ItemsNumberPerModule_UB[3] , name='Cons_ItemsNumberStage2H_UB')\n",
    "\n",
    "Cons_ItemsNumberStage2L_LB = model.addConstr(sum([contributes[t][0] * x[t,'Stage_2L'] for t in T]) >= ItemsNumberPerModule_LB[4], name='Cons_ItemsNumberStage2L_LB')\n",
    "Cons_ItemsNumberStage2L_UB = model.addConstr(sum([contributes[t][0] * x[t,'Stage_2L'] for t in T]) <= ItemsNumberPerModule_UB[4] , name='Cons_ItemsNumberStage2L_UB')"
   ]
  },
  {
   "cell_type": "code",
   "execution_count": 9,
   "metadata": {},
   "outputs": [],
   "source": [
    "AuItemsNumberPerModule_LB = [7,8,8]\n",
    "AuItemsNumberPerModule_UB = [9,11,11]\n",
    "\n",
    "# Core Stage\n",
    "Cons_AuItemsNumberCore_LB = model.addConstr(sum([contributes[t][1] * x[t,'Core_Stage'] for t in T]) >= AuItemsNumberPerModule_LB[0], name='Cons_AuItemsNumberCore_LB')\n",
    "Cons_AuItemsNumberCore_UB = model.addConstr(sum([contributes[t][1] * x[t,'Core_Stage'] for t in T]) <= AuItemsNumberPerModule_UB[0] , name='Cons_AuItemsNumberCore_UB')\n",
    "\n",
    "# Stage 1\n",
    "Cons_AuItemsNumberStage1H_LB = model.addConstr(sum([contributes[t][1] * x[t,'Stage_1H'] for t in T]) >= AuItemsNumberPerModule_LB[1], name='Cons_AuItemsNumberStage1H_LB')\n",
    "Cons_AuItemsNumberStage1H_UB = model.addConstr(sum([contributes[t][1] * x[t,'Stage_1H'] for t in T]) <= AuItemsNumberPerModule_UB[1] , name='Cons_AuItemsNumberStage1H_UB')\n",
    "\n",
    "Cons_AuItemsNumberStage1L_LB = model.addConstr(sum([contributes[t][1] * x[t,'Stage_1L'] for t in T]) >= AuItemsNumberPerModule_LB[2], name='Cons_AuItemsNumberStage1L_LB')\n",
    "Cons_AuItemsNumberStage1L_UB = model.addConstr(sum([contributes[t][1] * x[t,'Stage_1L'] for t in T]) <= AuItemsNumberPerModule_UB[2] , name='Cons_AuItemsNumberStage1L_UB')"
   ]
  },
  {
   "cell_type": "markdown",
   "metadata": {},
   "source": [
    "### 每个题组被使用的次数\n",
    "\n",
    "$$\n",
    "\\sum_{m \\in M} x_{t,m} \\leq  1 \\; \\; \\; \\forall \\; t \\in T.\n",
    "$$\n"
   ]
  },
  {
   "cell_type": "code",
   "execution_count": 10,
   "metadata": {},
   "outputs": [],
   "source": [
    "Cons_TestletsUsedNum = model.addConstrs((x.sum(t,'*') <= 1 for t in T), name='Cons_TestletsUsedNum')"
   ]
  },
  {
   "cell_type": "markdown",
   "metadata": {},
   "source": [
    "### 信息量(Objective function)"
   ]
  },
  {
   "cell_type": "markdown",
   "metadata": {},
   "source": [
    "$$\n",
    "$$"
   ]
  },
  {
   "cell_type": "code",
   "execution_count": 11,
   "metadata": {},
   "outputs": [],
   "source": [
    "# model.setObjective(x[0] + 2*x[1])"
   ]
  },
  {
   "cell_type": "markdown",
   "metadata": {},
   "source": [
    "## 路径水平约束"
   ]
  },
  {
   "cell_type": "markdown",
   "metadata": {},
   "source": [
    "### 总长度需要大于等于35"
   ]
  },
  {
   "cell_type": "code",
   "execution_count": 12,
   "metadata": {},
   "outputs": [],
   "source": [
    "# Core Stage -> Stage 1H -> Stage 2H: Path1\n",
    "Cons_ItemsNumberPath1 = model.addConstr(sum([contributes[t][0] * x[t,m] for m in ['Core_Stage','Stage_1H','Stage_2H'] for t in T]) >= 35, name='Cons_ItemsNumberPath1')\n",
    "\n",
    "# Core Stage -> Stage 1H -> Stage 2L: Path2\n",
    "Cons_ItemsNumberPath2 = model.addConstr(sum([contributes[t][0] * x[t,m] for m in ['Core_Stage','Stage_1H','Stage_2L'] for t in T]) >= 35, name='Cons_ItemsNumberPath2')\n",
    "\n",
    "\n",
    "# Core Stage -> Stage 1L -> Stage 2H: Path3\n",
    "Cons_ItemsNumberPath3 = model.addConstr(sum([contributes[t][0] * x[t,m] for m in ['Core_Stage','Stage_1L','Stage_2H'] for t in T]) >= 35, name='Cons_ItemsNumberPath3')\n",
    "\n",
    "\n",
    "# Core Stage -> Stage 1L -> Stage 2L: Path4\n",
    "Cons_ItemsNumberPath4 = model.addConstr(sum([contributes[t][0] * x[t,m] for m in ['Core_Stage','Stage_1L','Stage_2L'] for t in T]) >= 35, name='Cons_ItemsNumberPath4')"
   ]
  },
  {
   "cell_type": "markdown",
   "metadata": {},
   "source": [
    "### 简单选择题的个数需要在18和24之间"
   ]
  },
  {
   "cell_type": "code",
   "execution_count": 13,
   "metadata": {},
   "outputs": [],
   "source": [
    "F = ['Open_response','Simple_Multiple_Choice','Complex_Multiple_Choice']"
   ]
  },
  {
   "cell_type": "code",
   "execution_count": 14,
   "metadata": {},
   "outputs": [],
   "source": [
    "# Core Stage -> Stage 1H -> Stage 2H: Path1\n",
    "Cons_SM_ItemsNumberPath1_LB = model.addConstr(sum([contributes[t][31] * x[t,m] for m in ['Core_Stage','Stage_1H','Stage_2H'] for t in T]) >= 18, name='Cons_SM_ItemsNumberPath1_LB')\n",
    "Cons_SM_ItemsNumberPath1_UB = model.addConstr(sum([contributes[t][31] * x[t,m] for m in ['Core_Stage','Stage_1H','Stage_2H'] for t in T]) <= 24, name='Cons_SM_ItemsNumberPath1_UB')\n",
    "\n",
    "# Core Stage -> Stage 1H -> Stage 2L: Path2\n",
    "Cons_SM_ItemsNumberPath2_LB = model.addConstr(sum([contributes[t][31] * x[t,m] for m in ['Core_Stage','Stage_1H','Stage_2L'] for t in T]) >= 18, name='Cons_SM_ItemsNumberPath2_LB')\n",
    "Cons_SM_ItemsNumberPath2_UB = model.addConstr(sum([contributes[t][31] * x[t,m] for m in ['Core_Stage','Stage_1H','Stage_2L'] for t in T]) <= 24, name='Cons_SM_ItemsNumberPath2_UB')\n",
    "\n",
    "# Core Stage -> Stage 1L -> Stage 2H: Path3\n",
    "Cons_SM_ItemsNumberPath3_LB = model.addConstr(sum([contributes[t][31] * x[t,m] for m in ['Core_Stage','Stage_1L','Stage_2H'] for t in T]) >= 18, name='Cons_SM_ItemsNumberPath3_LB')\n",
    "Cons_SM_ItemsNumberPath3_UB = model.addConstr(sum([contributes[t][31] * x[t,m] for m in ['Core_Stage','Stage_1L','Stage_2H'] for t in T]) <= 18, name='Cons_SM_ItemsNumberPath3_UB')\n",
    "\n",
    "# Core Stage -> Stage 1L -> Stage 2L: Path4\n",
    "Cons_SM_ItemsNumberPath4_LB = model.addConstr(sum([contributes[t][31] * x[t,m] for m in ['Core_Stage','Stage_1L','Stage_2L'] for t in T]) >= 18, name='Cons_SM_ItemsNumberPath4_LB')\n",
    "Cons_SM_ItemsNumberPath4_UB = model.addConstr(sum([contributes[t][31] * x[t,m] for m in ['Core_Stage','Stage_1L','Stage_2L'] for t in T]) <= 24, name='Cons_SM_ItemsNumberPath4_UB')"
   ]
  },
  {
   "cell_type": "markdown",
   "metadata": {},
   "source": [
    "### Text Type&Situation&Process"
   ]
  },
  {
   "cell_type": "markdown",
   "metadata": {},
   "source": [
    "#### 构建变量"
   ]
  },
  {
   "cell_type": "code",
   "execution_count": 15,
   "metadata": {},
   "outputs": [],
   "source": [
    "PATH = ['Path1','Path2','Path3','Path4']\n",
    "\n",
    "W = ['Argumentative','Description','Exposition','Instruction','Narrative','Transactional','W_Multiple']\n",
    "\n",
    "P = ['Assess_quality_and_credibility','Corroborate_and_handle_conflict','Integrate_and_generate_tnferences','Reflect_on_content_and_form','Represent_literal_meaning','Scan_and_locate','Search_and_select_relevant_text']\n",
    "\n",
    "S = ['Educational','Occupational','Personal','Public','S_Multiple']\n",
    "\n",
    "z = model.addVars(PATH,W+P+S,vtype=GRB.BINARY,name='z')"
   ]
  },
  {
   "cell_type": "markdown",
   "metadata": {},
   "source": [
    "##### Path1"
   ]
  },
  {
   "cell_type": "code",
   "execution_count": 16,
   "metadata": {},
   "outputs": [],
   "source": [
    "# Core Stage -> Stage 1H -> Stage 2H: Path1\n",
    "\n",
    "## Text Type\n",
    "Cons_Path1_Argumentative = \\\n",
    "    model.addGenConstrIndicator(z['Path1','Argumentative'], 1.0, sum([contributes[t][10] * x[t,m] for m in ['Core_Stage','Stage_1H','Stage_2H'] for t in T])>=1,name='Cons_Path1_Argumentative')\n",
    "    \n",
    "Cons_Path1_Description = \\\n",
    "    model.addGenConstrIndicator(z['Path1','Description'], 1.0, sum([contributes[t][11] * x[t,m] for m in ['Core_Stage','Stage_1H','Stage_2H'] for t in T])>=1,name='Cons_Path1_Description')\n",
    "    \n",
    "Cons_Path1_Exposition = \\\n",
    "    model.addGenConstrIndicator(z['Path1','Exposition'], 1.0, sum([contributes[t][12] * x[t,m] for m in ['Core_Stage','Stage_1H','Stage_2H'] for t in T])>=1,name='Cons_Path1_Exposition')\n",
    "    \n",
    "Cons_Path1_Instruction = \\\n",
    "    model.addGenConstrIndicator(z['Path1','Instruction'], 1.0, sum([contributes[t][13] * x[t,m] for m in ['Core_Stage','Stage_1H','Stage_2H'] for t in T])>=1,name='Cons_Path1_Instruction')\n",
    "    \n",
    "Cons_Path1_W_Multiple = \\\n",
    "    model.addGenConstrIndicator(z['Path1','W_Multiple'], 1.0, sum([contributes[t][14] * x[t,m] for m in ['Core_Stage','Stage_1H','Stage_2H'] for t in T])>=1,name='Cons_Path1_W_Multiple')\n",
    "    \n",
    "Cons_Path1_Narrative = \\\n",
    "    model.addGenConstrIndicator(z['Path1','Narrative'], 1.0, sum([contributes[t][15] * x[t,m] for m in ['Core_Stage','Stage_1H','Stage_2H'] for t in T])>=1,name='Cons_Path1_Narrative')\n",
    "    \n",
    "Cons_Path1_Transactional = \\\n",
    "    model.addGenConstrIndicator(z['Path1','Transactional'], 1.0, sum([contributes[t][16] * x[t,m] for m in ['Core_Stage','Stage_1H','Stage_2H'] for t in T])>=1,name='Cons_Path1_Transactional')\n",
    "    \n",
    "## Situation\n",
    "Cons_Path1_Educational = \\\n",
    "    model.addGenConstrIndicator(z['Path1','Educational'], 1.0, sum([contributes[t][17] * x[t,m] for m in ['Core_Stage','Stage_1H','Stage_2H'] for t in T])>=1,name='Cons_Path1_Educational')\n",
    "\n",
    "Cons_Path1_S_Multiple = \\\n",
    "    model.addGenConstrIndicator(z['Path1','S_Multiple'], 1.0, sum([contributes[t][18] * x[t,m] for m in ['Core_Stage','Stage_1H','Stage_2H'] for t in T])>=1,name='Cons_Path1_S_Multiple')\n",
    "    \n",
    "Cons_Path1_Occupational = \\\n",
    "    model.addGenConstrIndicator(z['Path1','Occupational'], 1.0, sum([contributes[t][19] * x[t,m] for m in ['Core_Stage','Stage_1H','Stage_2H'] for t in T])>=1,name='Cons_Path1_Occupational')\n",
    "    \n",
    "Cons_Path1_Personal = \\\n",
    "    model.addGenConstrIndicator(z['Path1','Personal'], 1.0, sum([contributes[t][20] * x[t,m] for m in ['Core_Stage','Stage_1H','Stage_2H'] for t in T])>=1,name='Cons_Path1_Personal')\n",
    "\n",
    "Cons_Path1_Public = \\\n",
    "    model.addGenConstrIndicator(z['Path1','Public'], 1.0, sum([contributes[t][21] * x[t,m] for m in ['Core_Stage','Stage_1H','Stage_2H'] for t in T])>=1,name='Cons_Path1_Public')\n",
    "\n",
    "## Process\n",
    "Cons_Path1_Assess_quality_and_credibility = \\\n",
    "    model.addGenConstrIndicator(z['Path1','Assess_quality_and_credibility'], 1.0, sum([contributes[t][22] * x[t,m] for m in ['Core_Stage','Stage_1H','Stage_2H'] for t in T])>=1,name='Cons_Path1_Assess_quality_and_credibility')\n",
    "    \n",
    "Cons_Path1_Corroborate_and_handle_conflict = \\\n",
    "    model.addGenConstrIndicator(z['Path1','Corroborate_and_handle_conflict'], 1.0, sum([contributes[t][23] * x[t,m] for m in ['Core_Stage','Stage_1H','Stage_2H'] for t in T])>=1,name='Cons_Path1_Corroborate_and_handle_conflict')\n",
    "    \n",
    "Cons_Path1_Integrate_and_generate_tnferences = \\\n",
    "    model.addGenConstrIndicator(z['Path1','Integrate_and_generate_tnferences'], 1.0, sum([contributes[t][24] * x[t,m] for m in ['Core_Stage','Stage_1H','Stage_2H'] for t in T])>=1,name='Cons_Path1_Integrate_and_generate_tnferences')\n",
    "    \n",
    "Cons_Path1_Reflect_on_content_and_form = \\\n",
    "    model.addGenConstrIndicator(z['Path1','Reflect_on_content_and_form'], 1.0, sum([contributes[t][25] * x[t,m] for m in ['Core_Stage','Stage_1H','Stage_2H'] for t in T])>=1,name='Cons_Path1_Reflect_on_content_and_form')\n",
    "\n",
    "Cons_Path1_Represent_literal_meaning = \\\n",
    "    model.addGenConstrIndicator(z['Path1','Represent_literal_meaning'], 1.0, sum([contributes[t][26] * x[t,m] for m in ['Core_Stage','Stage_1H','Stage_2H'] for t in T])>=1,name='Cons_Path1_Represent_literal_meaning')\n",
    "    \n",
    "Cons_Path1_Scan_and_locate = \\\n",
    "    model.addGenConstrIndicator(z['Path1','Scan_and_locate'], 1.0, sum([contributes[t][27] * x[t,m] for m in ['Core_Stage','Stage_1H','Stage_2H'] for t in T])>=1,name='Cons_Path1_Scan_and_locate')\n",
    "    \n",
    "Cons_Path1_Search_and_select_relevant_text = \\\n",
    "    model.addGenConstrIndicator(z['Path1','Search_and_select_relevant_text'], 1.0, sum([contributes[t][28] * x[t,m] for m in ['Core_Stage','Stage_1H','Stage_2H'] for t in T])>=1,name='Cons_Path1_Search_and_select_relevant_text')\n"
   ]
  },
  {
   "cell_type": "markdown",
   "metadata": {},
   "source": [
    "##### Path2"
   ]
  },
  {
   "cell_type": "code",
   "execution_count": 17,
   "metadata": {},
   "outputs": [],
   "source": [
    "# Core Stage -> Stage 1H -> Stage 2L: Path2\n",
    "\n",
    "## Text Type\n",
    "Cons_Path2_Argumentative = \\\n",
    "    model.addGenConstrIndicator(z['Path2','Argumentative'], 1.0, sum([contributes[t][10] * x[t,m] for m in ['Core_Stage','Stage_1H','Stage_2L'] for t in T])>=1,name='Cons_Path2_Argumentative')\n",
    "    \n",
    "Cons_Path2_Description = \\\n",
    "    model.addGenConstrIndicator(z['Path2','Description'], 1.0, sum([contributes[t][11] * x[t,m] for m in ['Core_Stage','Stage_1H','Stage_2L'] for t in T])>=1,name='Cons_Path2_Description')\n",
    "    \n",
    "Cons_Path2_Exposition = \\\n",
    "    model.addGenConstrIndicator(z['Path2','Exposition'], 1.0, sum([contributes[t][12] * x[t,m] for m in ['Core_Stage','Stage_1H','Stage_2L'] for t in T])>=1,name='Cons_Path2_Exposition')\n",
    "    \n",
    "Cons_Path2_Instruction = \\\n",
    "    model.addGenConstrIndicator(z['Path2','Instruction'], 1.0, sum([contributes[t][13] * x[t,m] for m in ['Core_Stage','Stage_1H','Stage_2L'] for t in T])>=1,name='Cons_Path2_Instruction')\n",
    "    \n",
    "Cons_Path2_W_Multiple = \\\n",
    "    model.addGenConstrIndicator(z['Path2','W_Multiple'], 1.0, sum([contributes[t][14] * x[t,m] for m in ['Core_Stage','Stage_1H','Stage_2L'] for t in T])>=1,name='Cons_Path2_W_Multiple')\n",
    "    \n",
    "Cons_Path2_Narrative = \\\n",
    "    model.addGenConstrIndicator(z['Path2','Narrative'], 1.0, sum([contributes[t][15] * x[t,m] for m in ['Core_Stage','Stage_1H','Stage_2L'] for t in T])>=1,name='Cons_Path2_Narrative')\n",
    "    \n",
    "Cons_Path2_Transactional = \\\n",
    "    model.addGenConstrIndicator(z['Path2','Transactional'], 1.0, sum([contributes[t][16] * x[t,m] for m in ['Core_Stage','Stage_1H','Stage_2L'] for t in T])>=1,name='Cons_Path2_Transactional')\n",
    "    \n",
    "## Situation\n",
    "Cons_Path2_Educational = \\\n",
    "    model.addGenConstrIndicator(z['Path2','Educational'], 1.0, sum([contributes[t][17] * x[t,m] for m in ['Core_Stage','Stage_1H','Stage_2L'] for t in T])>=1,name='Cons_Path2_Educational')\n",
    "\n",
    "Cons_Path2_S_Multiple = \\\n",
    "    model.addGenConstrIndicator(z['Path2','S_Multiple'], 1.0, sum([contributes[t][18] * x[t,m] for m in ['Core_Stage','Stage_1H','Stage_2L'] for t in T])>=1,name='Cons_Path2_S_Multiple')\n",
    "    \n",
    "Cons_Path2_Occupational = \\\n",
    "    model.addGenConstrIndicator(z['Path2','Occupational'], 1.0, sum([contributes[t][19] * x[t,m] for m in ['Core_Stage','Stage_1H','Stage_2L'] for t in T])>=1,name='Cons_Path2_Occupational')\n",
    "    \n",
    "Cons_Path2_Personal = \\\n",
    "    model.addGenConstrIndicator(z['Path2','Personal'], 1.0, sum([contributes[t][20] * x[t,m] for m in ['Core_Stage','Stage_1H','Stage_2L'] for t in T])>=1,name='Cons_Path2_Personal')\n",
    "\n",
    "Cons_Path2_Public = \\\n",
    "    model.addGenConstrIndicator(z['Path2','Public'], 1.0, sum([contributes[t][21] * x[t,m] for m in ['Core_Stage','Stage_1H','Stage_2L'] for t in T])>=1,name='Cons_Path2_Public')\n",
    "\n",
    "## Process\n",
    "Cons_Path2_Assess_quality_and_credibility = \\\n",
    "    model.addGenConstrIndicator(z['Path2','Assess_quality_and_credibility'], 1.0, sum([contributes[t][22] * x[t,m] for m in ['Core_Stage','Stage_1H','Stage_2L'] for t in T])>=1,name='Cons_Path2_Assess_quality_and_credibility')\n",
    "    \n",
    "Cons_Path2_Corroborate_and_handle_conflict = \\\n",
    "    model.addGenConstrIndicator(z['Path2','Corroborate_and_handle_conflict'], 1.0, sum([contributes[t][23] * x[t,m] for m in ['Core_Stage','Stage_1H','Stage_2L'] for t in T])>=1,name='Cons_Path2_Corroborate_and_handle_conflict')\n",
    "    \n",
    "Cons_Path2_Integrate_and_generate_tnferences = \\\n",
    "    model.addGenConstrIndicator(z['Path2','Integrate_and_generate_tnferences'], 1.0, sum([contributes[t][24] * x[t,m] for m in ['Core_Stage','Stage_1H','Stage_2L'] for t in T])>=1,name='Cons_Path2_Integrate_and_generate_tnferences')\n",
    "    \n",
    "Cons_Path2_Reflect_on_content_and_form = \\\n",
    "    model.addGenConstrIndicator(z['Path2','Reflect_on_content_and_form'], 1.0, sum([contributes[t][25] * x[t,m] for m in ['Core_Stage','Stage_1H','Stage_2L'] for t in T])>=1,name='Cons_Path2_Reflect_on_content_and_form')\n",
    "\n",
    "Cons_Path2_Represent_literal_meaning = \\\n",
    "    model.addGenConstrIndicator(z['Path2','Represent_literal_meaning'], 1.0, sum([contributes[t][26] * x[t,m] for m in ['Core_Stage','Stage_1H','Stage_2L'] for t in T])>=1,name='Cons_Path2_Represent_literal_meaning')\n",
    "    \n",
    "Cons_Path2_Scan_and_locate = \\\n",
    "    model.addGenConstrIndicator(z['Path2','Scan_and_locate'], 1.0, sum([contributes[t][27] * x[t,m] for m in ['Core_Stage','Stage_1H','Stage_2L'] for t in T])>=1,name='Cons_Path2_Scan_and_locate')\n",
    "    \n",
    "Cons_Path2_Search_and_select_relevant_text = \\\n",
    "    model.addGenConstrIndicator(z['Path2','Search_and_select_relevant_text'], 1.0, sum([contributes[t][28] * x[t,m] for m in ['Core_Stage','Stage_1H','Stage_2L'] for t in T])>=1,name='Cons_Path2_Search_and_select_relevant_text')\n",
    "\n"
   ]
  },
  {
   "cell_type": "markdown",
   "metadata": {},
   "source": [
    "##### Path3"
   ]
  },
  {
   "cell_type": "code",
   "execution_count": 18,
   "metadata": {},
   "outputs": [],
   "source": [
    "# Core Stage -> Stage 1L -> Stage 2H: Path3\n",
    "## Text Type\n",
    "Cons_Path3_Argumentative = \\\n",
    "    model.addGenConstrIndicator(z['Path3','Argumentative'], 1.0, sum([contributes[t][10] * x[t,m] for m in ['Core_Stage','Stage_1L','Stage_2H'] for t in T])>=1,name='Cons_Path3_Argumentative')\n",
    "    \n",
    "Cons_Path3_Description = \\\n",
    "    model.addGenConstrIndicator(z['Path3','Description'], 1.0, sum([contributes[t][11] * x[t,m] for m in ['Core_Stage','Stage_1L','Stage_2H'] for t in T])>=1,name='Cons_Path3_Description')\n",
    "    \n",
    "Cons_Path3_Exposition = \\\n",
    "    model.addGenConstrIndicator(z['Path3','Exposition'], 1.0, sum([contributes[t][12] * x[t,m] for m in ['Core_Stage','Stage_1L','Stage_2H'] for t in T])>=1,name='Cons_Path3_Exposition')\n",
    "    \n",
    "Cons_Path3_Instruction = \\\n",
    "    model.addGenConstrIndicator(z['Path3','Instruction'], 1.0, sum([contributes[t][13] * x[t,m] for m in ['Core_Stage','Stage_1L','Stage_2H'] for t in T])>=1,name='Cons_Path3_Instruction')\n",
    "    \n",
    "Cons_Path3_W_Multiple = \\\n",
    "    model.addGenConstrIndicator(z['Path3','W_Multiple'], 1.0, sum([contributes[t][14] * x[t,m] for m in ['Core_Stage','Stage_1L','Stage_2H'] for t in T])>=1,name='Cons_Path3_W_Multiple')\n",
    "    \n",
    "Cons_Path3_Narrative = \\\n",
    "    model.addGenConstrIndicator(z['Path3','Narrative'], 1.0, sum([contributes[t][15] * x[t,m] for m in ['Core_Stage','Stage_1L','Stage_2H'] for t in T])>=1,name='Cons_Path3_Narrative')\n",
    "    \n",
    "Cons_Path3_Transactional = \\\n",
    "    model.addGenConstrIndicator(z['Path3','Transactional'], 1.0, sum([contributes[t][16] * x[t,m] for m in ['Core_Stage','Stage_1L','Stage_2H'] for t in T])>=1,name='Cons_Path3_Transactional')\n",
    "    \n",
    "## Situation\n",
    "Cons_Path3_Educational = \\\n",
    "    model.addGenConstrIndicator(z['Path3','Educational'], 1.0, sum([contributes[t][17] * x[t,m] for m in ['Core_Stage','Stage_1L','Stage_2H'] for t in T])>=1,name='Cons_Path3_Educational')\n",
    "\n",
    "Cons_Path3_S_Multiple = \\\n",
    "    model.addGenConstrIndicator(z['Path3','S_Multiple'], 1.0, sum([contributes[t][18] * x[t,m] for m in ['Core_Stage','Stage_1L','Stage_2H'] for t in T])>=1,name='Cons_Path3_S_Multiple')\n",
    "    \n",
    "Cons_Path3_Occupational = \\\n",
    "    model.addGenConstrIndicator(z['Path3','Occupational'], 1.0, sum([contributes[t][19] * x[t,m] for m in ['Core_Stage','Stage_1L','Stage_2H'] for t in T])>=1,name='Cons_Path3_Occupational')\n",
    "    \n",
    "Cons_Path3_Personal = \\\n",
    "    model.addGenConstrIndicator(z['Path3','Personal'], 1.0, sum([contributes[t][20] * x[t,m] for m in ['Core_Stage','Stage_1L','Stage_2H'] for t in T])>=1,name='Cons_Path3_Personal')\n",
    "\n",
    "Cons_Path3_Public = \\\n",
    "    model.addGenConstrIndicator(z['Path3','Public'], 1.0, sum([contributes[t][21] * x[t,m] for m in ['Core_Stage','Stage_1L','Stage_2H'] for t in T])>=1,name='Cons_Path3_Public')\n",
    "\n",
    "## Process\n",
    "Cons_Path3_Assess_quality_and_credibility = \\\n",
    "    model.addGenConstrIndicator(z['Path3','Assess_quality_and_credibility'], 1.0, sum([contributes[t][22] * x[t,m] for m in ['Core_Stage','Stage_1L','Stage_2H'] for t in T])>=1,name='Cons_Path3_Assess_quality_and_credibility')\n",
    "    \n",
    "Cons_Path3_Corroborate_and_handle_conflict = \\\n",
    "    model.addGenConstrIndicator(z['Path3','Corroborate_and_handle_conflict'], 1.0, sum([contributes[t][23] * x[t,m] for m in ['Core_Stage','Stage_1L','Stage_2H'] for t in T])>=1,name='Cons_Path3_Corroborate_and_handle_conflict')\n",
    "    \n",
    "Cons_Path3_Integrate_and_generate_tnferences = \\\n",
    "    model.addGenConstrIndicator(z['Path3','Integrate_and_generate_tnferences'], 1.0, sum([contributes[t][24] * x[t,m] for m in ['Core_Stage','Stage_1L','Stage_2H'] for t in T])>=1,name='Cons_Path3_Integrate_and_generate_tnferences')\n",
    "    \n",
    "Cons_Path3_Reflect_on_content_and_form = \\\n",
    "    model.addGenConstrIndicator(z['Path3','Reflect_on_content_and_form'], 1.0, sum([contributes[t][25] * x[t,m] for m in ['Core_Stage','Stage_1L','Stage_2H'] for t in T])>=1,name='Cons_Path3_Reflect_on_content_and_form')\n",
    "\n",
    "Cons_Path3_Represent_literal_meaning = \\\n",
    "    model.addGenConstrIndicator(z['Path3','Represent_literal_meaning'], 1.0, sum([contributes[t][26] * x[t,m] for m in ['Core_Stage','Stage_1L','Stage_2H'] for t in T])>=1,name='Cons_Path3_Represent_literal_meaning')\n",
    "    \n",
    "Cons_Path3_Scan_and_locate = \\\n",
    "    model.addGenConstrIndicator(z['Path3','Scan_and_locate'], 1.0, sum([contributes[t][27] * x[t,m] for m in ['Core_Stage','Stage_1L','Stage_2H'] for t in T])>=1,name='Cons_Path3_Scan_and_locate')\n",
    "    \n",
    "Cons_Path3_Search_and_select_relevant_text = \\\n",
    "    model.addGenConstrIndicator(z['Path3','Search_and_select_relevant_text'], 1.0, sum([contributes[t][28] * x[t,m] for m in ['Core_Stage','Stage_1L','Stage_2H'] for t in T])>=1,name='Cons_Path3_Search_and_select_relevant_text')\n",
    "\n"
   ]
  },
  {
   "cell_type": "markdown",
   "metadata": {},
   "source": [
    "##### Path4"
   ]
  },
  {
   "cell_type": "code",
   "execution_count": 19,
   "metadata": {},
   "outputs": [],
   "source": [
    "# Core Stage -> Stage 1L -> Stage 2L: Path4\n",
    "\n",
    "## Text Type\n",
    "Cons_Path4_Argumentative = \\\n",
    "    model.addGenConstrIndicator(z['Path4','Argumentative'], 1.0, sum([contributes[t][10] * x[t,m] for m in ['Core_Stage','Stage_1L','Stage_2L'] for t in T])>=1,name='Cons_Path4_Argumentative')\n",
    "    \n",
    "Cons_Path4_Description = \\\n",
    "    model.addGenConstrIndicator(z['Path4','Description'], 1.0, sum([contributes[t][11] * x[t,m] for m in ['Core_Stage','Stage_1L','Stage_2L'] for t in T])>=1,name='Cons_Path4_Description')\n",
    "    \n",
    "Cons_Path4_Exposition = \\\n",
    "    model.addGenConstrIndicator(z['Path4','Exposition'], 1.0, sum([contributes[t][12] * x[t,m] for m in ['Core_Stage','Stage_1L','Stage_2L'] for t in T])>=1,name='Cons_Path4_Exposition')\n",
    "    \n",
    "Cons_Path4_Instruction = \\\n",
    "    model.addGenConstrIndicator(z['Path4','Instruction'], 1.0, sum([contributes[t][13] * x[t,m] for m in ['Core_Stage','Stage_1L','Stage_2L'] for t in T])>=1,name='Cons_Path4_Instruction')\n",
    "    \n",
    "Cons_Path4_W_Multiple = \\\n",
    "    model.addGenConstrIndicator(z['Path4','W_Multiple'], 1.0, sum([contributes[t][14] * x[t,m] for m in ['Core_Stage','Stage_1L','Stage_2L'] for t in T])>=1,name='Cons_Path4_W_Multiple')\n",
    "    \n",
    "Cons_Path4_Narrative = \\\n",
    "    model.addGenConstrIndicator(z['Path4','Narrative'], 1.0, sum([contributes[t][15] * x[t,m] for m in ['Core_Stage','Stage_1L','Stage_2L'] for t in T])>=1,name='Cons_Path4_Narrative')\n",
    "    \n",
    "Cons_Path4_Transactional = \\\n",
    "    model.addGenConstrIndicator(z['Path4','Transactional'], 1.0, sum([contributes[t][16] * x[t,m] for m in ['Core_Stage','Stage_1L','Stage_2L'] for t in T])>=1,name='Cons_Path4_Transactional')\n",
    "    \n",
    "## Situation\n",
    "Cons_Path4_Educational = \\\n",
    "    model.addGenConstrIndicator(z['Path4','Educational'], 1.0, sum([contributes[t][17] * x[t,m] for m in ['Core_Stage','Stage_1L','Stage_2L'] for t in T])>=1,name='Cons_Path4_Educational')\n",
    "\n",
    "Cons_Path4_S_Multiple = \\\n",
    "    model.addGenConstrIndicator(z['Path4','S_Multiple'], 1.0, sum([contributes[t][18] * x[t,m] for m in ['Core_Stage','Stage_1L','Stage_2L'] for t in T])>=1,name='Cons_Path4_S_Multiple')\n",
    "    \n",
    "Cons_Path4_Occupational = \\\n",
    "    model.addGenConstrIndicator(z['Path4','Occupational'], 1.0, sum([contributes[t][19] * x[t,m] for m in ['Core_Stage','Stage_1L','Stage_2L'] for t in T])>=1,name='Cons_Path4_Occupational')\n",
    "    \n",
    "Cons_Path4_Personal = \\\n",
    "    model.addGenConstrIndicator(z['Path4','Personal'], 1.0, sum([contributes[t][20] * x[t,m] for m in ['Core_Stage','Stage_1L','Stage_2L'] for t in T])>=1,name='Cons_Path4_Personal')\n",
    "\n",
    "Cons_Path4_Public = \\\n",
    "    model.addGenConstrIndicator(z['Path4','Public'], 1.0, sum([contributes[t][21] * x[t,m] for m in ['Core_Stage','Stage_1L','Stage_2L'] for t in T])>=1,name='Cons_Path4_Public')\n",
    "\n",
    "## Process\n",
    "Cons_Path4_Assess_quality_and_credibility = \\\n",
    "    model.addGenConstrIndicator(z['Path4','Assess_quality_and_credibility'], 1.0, sum([contributes[t][22] * x[t,m] for m in ['Core_Stage','Stage_1L','Stage_2L'] for t in T])>=1,name='Cons_Path4_Assess_quality_and_credibility')\n",
    "    \n",
    "Cons_Path4_Corroborate_and_handle_conflict = \\\n",
    "    model.addGenConstrIndicator(z['Path4','Corroborate_and_handle_conflict'], 1.0, sum([contributes[t][23] * x[t,m] for m in ['Core_Stage','Stage_1L','Stage_2L'] for t in T])>=1,name='Cons_Path4_Corroborate_and_handle_conflict')\n",
    "    \n",
    "Cons_Path4_Integrate_and_generate_tnferences = \\\n",
    "    model.addGenConstrIndicator(z['Path4','Integrate_and_generate_tnferences'], 1.0, sum([contributes[t][24] * x[t,m] for m in ['Core_Stage','Stage_1L','Stage_2L'] for t in T])>=1,name='Cons_Path4_Integrate_and_generate_tnferences')\n",
    "    \n",
    "Cons_Path4_Reflect_on_content_and_form = \\\n",
    "    model.addGenConstrIndicator(z['Path4','Reflect_on_content_and_form'], 1.0, sum([contributes[t][25] * x[t,m] for m in ['Core_Stage','Stage_1L','Stage_2L'] for t in T])>=1,name='Cons_Path4_Reflect_on_content_and_form')\n",
    "\n",
    "Cons_Path4_Represent_literal_meaning = \\\n",
    "    model.addGenConstrIndicator(z['Path4','Represent_literal_meaning'], 1.0, sum([contributes[t][26] * x[t,m] for m in ['Core_Stage','Stage_1L','Stage_2L'] for t in T])>=1,name='Cons_Path4_Represent_literal_meaning')\n",
    "    \n",
    "Cons_Path4_Scan_and_locate = \\\n",
    "    model.addGenConstrIndicator(z['Path4','Scan_and_locate'], 1.0, sum([contributes[t][27] * x[t,m] for m in ['Core_Stage','Stage_1L','Stage_2L'] for t in T])>=1,name='Cons_Path4_Scan_and_locate')\n",
    "    \n",
    "Cons_Path4_Search_and_select_relevant_text = \\\n",
    "    model.addGenConstrIndicator(z['Path4','Search_and_select_relevant_text'], 1.0, sum([contributes[t][28] * x[t,m] for m in ['Core_Stage','Stage_1L','Stage_2L'] for t in T])>=1,name='Cons_Path4_Search_and_select_relevant_text')\n"
   ]
  },
  {
   "cell_type": "markdown",
   "metadata": {},
   "source": [
    "#### Text Type"
   ]
  },
  {
   "cell_type": "code",
   "execution_count": 20,
   "metadata": {},
   "outputs": [],
   "source": [
    "# Core Stage -> Stage 1H -> Stage 2H: Path1\n",
    "Cons_TextTypeNumberPath1 = model.addConstr(sum([z['Path1',w] for w in W]) >= 6, name='Cons_TextTypeNumberPath1')\n",
    "\n",
    "# Core Stage -> Stage 1H -> Stage 2L: Path2\n",
    "Cons_TextTypeNumberPath2 = model.addConstr(sum([z['Path2',w] for w in W]) >= 6, name='Cons_TextTypeNumberPath2')\n",
    "\n",
    "# Core Stage -> Stage 1L -> Stage 2H: Path3\n",
    "Cons_TextTypeNumberPath3 = model.addConstr(sum([z['Path3',w] for w in W]) >= 6, name='Cons_TextTypeNumberPath3')\n",
    "\n",
    "# Core Stage -> Stage 1L -> Stage 2L: Path4\n",
    "Cons_TextTypeNumberPath4 = model.addConstr(sum([z['Path4',w] for w in W]) >= 6, name='Cons_TextTypeNumberPath4')"
   ]
  },
  {
   "cell_type": "markdown",
   "metadata": {},
   "source": [
    "#### Situation"
   ]
  },
  {
   "cell_type": "code",
   "execution_count": 21,
   "metadata": {},
   "outputs": [],
   "source": [
    "# Core Stage -> Stage 1H -> Stage 2H: Path1\n",
    "Cons_SituationNumberPath1 = model.addConstr(sum([z['Path1',s] for s in S]) == 5, name='Cons_SituationNumberPath1')\n",
    "\n",
    "# Core Stage -> Stage 1H -> Stage 2L: Path2\n",
    "Cons_SituationNumberPath2 = model.addConstr(sum([z['Path2',s] for s in S]) == 5, name='Cons_SituationNumberPath2')\n",
    "\n",
    "# Core Stage -> Stage 1L -> Stage 2H: Path3\n",
    "Cons_SituationNumberPath3 = model.addConstr(sum([z['Path3',s] for s in S]) == 5, name='Cons_SituationNumberPath3')\n",
    "\n",
    "# Core Stage -> Stage 1L -> Stage 2L: Path4\n",
    "Cons_SituationNumberPath4 = model.addConstr(sum([z['Path4',s] for s in S]) >= 5, name='Cons_SituationNumberPath4')"
   ]
  },
  {
   "cell_type": "markdown",
   "metadata": {},
   "source": [
    "#### Process"
   ]
  },
  {
   "cell_type": "code",
   "execution_count": 22,
   "metadata": {},
   "outputs": [],
   "source": [
    "# Core Stage -> Stage 1H -> Stage 2H: Path1\n",
    "Cons_ProcessNumberPath1 = model.addConstr(sum([z['Path1',p] for p in P]) == 7, name='Cons_ProcessNumberPath1')\n",
    "\n",
    "# Core Stage -> Stage 1H -> Stage 2L: Path2\n",
    "Cons_ProcessNumberPath2 = model.addConstr(sum([z['Path2',p] for p in P]) == 7, name='Cons_ProcessNumberPath2')\n",
    "\n",
    "# Core Stage -> Stage 1L -> Stage 2H: Path3\n",
    "Cons_ProcessNumberPath3= model.addConstr(sum([z['Path3',p] for p in P]) == 7, name='Cons_ProcessNumberPath3')\n",
    "\n",
    "# Core Stage -> Stage 1L -> Stage 2L: Path4\n",
    "Cons_ProcessNumberPath4 = model.addConstr(sum([z['Path4',p] for p in P]) == 7, name='Cons_ProcessNumberPath4')"
   ]
  },
  {
   "cell_type": "markdown",
   "metadata": {},
   "source": [
    "## 求解(获得可行解 Solution Pool)"
   ]
  },
  {
   "cell_type": "code",
   "execution_count": 23,
   "metadata": {},
   "outputs": [
    {
     "name": "stdout",
     "output_type": "stream",
     "text": [
      "Set parameter PoolSolutions to value 1000000\n",
      "Set parameter PoolGap to value 0.1\n",
      "Set parameter PoolSearchMode to value 2\n",
      "Gurobi Optimizer version 11.0.0 build v11.0.0rc2 (win64 - Windows 11.0 (22621.2))\n",
      "\n",
      "CPU model: Intel(R) Core(TM) i7-8550U CPU @ 1.80GHz, instruction set [SSE2|AVX|AVX2]\n",
      "Thread count: 4 physical cores, 8 logical processors, using up to 8 threads\n",
      "\n",
      "Optimize a model with 100 rows, 301 columns and 3160 nonzeros\n",
      "Model fingerprint: 0x3da2dad3\n",
      "Model has 76 general constraints\n",
      "Variable types: 0 continuous, 301 integer (301 binary)\n",
      "Coefficient statistics:\n",
      "  Matrix range     [1e-01, 7e+00]\n",
      "  Objective range  [0e+00, 0e+00]\n",
      "  Bounds range     [1e+00, 1e+00]\n",
      "  RHS range        [1e+00, 4e+01]\n",
      "  GenCon rhs range [1e+00, 1e+00]\n",
      "  GenCon coe range [1e+00, 1e+00]\n",
      "Presolve added 62 rows and 0 columns\n",
      "Presolve removed 0 rows and 98 columns\n",
      "Presolve time: 0.02s\n",
      "Presolved: 162 rows, 203 columns, 2875 nonzeros\n",
      "Variable types: 0 continuous, 203 integer (202 binary)\n",
      "\n",
      "Root relaxation: objective 0.000000e+00, 119 iterations, 0.00 seconds (0.00 work units)\n",
      "\n",
      "    Nodes    |    Current Node    |     Objective Bounds      |     Work\n",
      " Expl Unexpl |  Obj  Depth IntInf | Incumbent    BestBd   Gap | It/Node Time\n",
      "\n",
      "H    0     0                       0.0000000    0.00000  0.00%     -    0s\n",
      "     0     0          -    0         0.00000    0.00000  0.00%     -    0s\n",
      "\n",
      "Optimal solution found at node 0 - now completing solution pool...\n",
      "\n",
      "    Nodes    |    Current Node    |      Pool Obj. Bounds     |     Work\n",
      "             |                    |   Worst                   |\n",
      " Expl Unexpl |  Obj  Depth IntInf | Incumbent    BestBd   Gap | It/Node Time\n",
      "\n",
      "     0     0          -    0               -    0.00000      -     -    0s\n",
      "     0     0          -    0               -    0.00000      -     -    0s\n",
      "     0     2          -    0               -    0.00000      -     -    0s\n",
      " 39468  1842     cutoff   51               -    0.00000      -   0.2    5s\n",
      " 63066  2316          -   46               -    0.00000      -   0.2   11s\n",
      " 81998  2469     cutoff   44               -    0.00000      -   0.2   16s\n",
      " 92810  2554     cutoff   51               -    0.00000      -   0.1   20s\n",
      " 107580  2538          -   49               -    0.00000      -   0.1   25s\n",
      " 117183  2577          -   46               -    0.00000      -   0.1   30s\n",
      " 127203  2476          -   50               -    0.00000      -   0.1   35s\n",
      " 135211  2480          -   42               -    0.00000      -   0.1   41s\n",
      " 140197  2480          -   46               -    0.00000      -   0.1   46s\n",
      " 148204  2410     cutoff   49               -    0.00000      -   0.1   53s\n",
      " 151227  2392     cutoff   53               -    0.00000      -   0.1   56s\n",
      " 155217  2392          -   51               -    0.00000      -   0.1   60s\n",
      " 159329  2370          -   42               -    0.00000      -   0.1   65s\n",
      " 164225  2370     cutoff   50               -    0.00000      -   0.1   70s\n",
      " 172244  2357          -   42               -    0.00000      -   0.1   81s\n",
      " 175244  2357     cutoff   53               -    0.00000      -   0.1   85s\n",
      " 178192  2224     cutoff   51               -    0.00000      -   0.1   90s\n",
      " 183518  2224          -   46               -    0.00000      -   0.1   95s\n",
      " 187498  2292          -   48               -    0.00000      -   0.1  100s\n",
      " 193530  2309     cutoff   41               -    0.00000      -   0.1  109s\n",
      " 193753  2309          -   41               -    0.00000      -   0.1  110s\n"
     ]
    },
    {
     "ename": "KeyboardInterrupt",
     "evalue": "",
     "output_type": "error",
     "traceback": [
      "\u001b[1;31m---------------------------------------------------------------------------\u001b[0m",
      "\u001b[1;31mKeyboardInterrupt\u001b[0m                         Traceback (most recent call last)",
      "File \u001b[1;32me:\\anaconda\\envs\\Graduation\\Lib\\site-packages\\ipykernel\\iostream.py:626\u001b[0m, in \u001b[0;36mOutStream.write\u001b[1;34m(self, string)\u001b[0m\n\u001b[0;32m    618\u001b[0m                 \u001b[38;5;28;01mreturn\u001b[39;00m\n\u001b[0;32m    620\u001b[0m         \u001b[38;5;28mself\u001b[39m\u001b[38;5;241m.\u001b[39msession\u001b[38;5;241m.\u001b[39msend(\n\u001b[0;32m    621\u001b[0m             \u001b[38;5;28mself\u001b[39m\u001b[38;5;241m.\u001b[39mpub_thread,\n\u001b[0;32m    622\u001b[0m             msg,\n\u001b[0;32m    623\u001b[0m             ident\u001b[38;5;241m=\u001b[39m\u001b[38;5;28mself\u001b[39m\u001b[38;5;241m.\u001b[39mtopic,\n\u001b[0;32m    624\u001b[0m         )\n\u001b[1;32m--> 626\u001b[0m \u001b[38;5;28;01mdef\u001b[39;00m \u001b[38;5;21mwrite\u001b[39m(\u001b[38;5;28mself\u001b[39m, string: \u001b[38;5;28mstr\u001b[39m) \u001b[38;5;241m-\u001b[39m\u001b[38;5;241m>\u001b[39m Optional[\u001b[38;5;28mint\u001b[39m]:  \u001b[38;5;66;03m# type:ignore[override]\u001b[39;00m\n\u001b[0;32m    627\u001b[0m \u001b[38;5;250m    \u001b[39m\u001b[38;5;124;03m\"\"\"Write to current stream after encoding if necessary\u001b[39;00m\n\u001b[0;32m    628\u001b[0m \n\u001b[0;32m    629\u001b[0m \u001b[38;5;124;03m    Returns\u001b[39;00m\n\u001b[1;32m   (...)\u001b[0m\n\u001b[0;32m    633\u001b[0m \n\u001b[0;32m    634\u001b[0m \u001b[38;5;124;03m    \"\"\"\u001b[39;00m\n\u001b[0;32m    636\u001b[0m     \u001b[38;5;28;01mif\u001b[39;00m \u001b[38;5;129;01mnot\u001b[39;00m \u001b[38;5;28misinstance\u001b[39m(string, \u001b[38;5;28mstr\u001b[39m):\n",
      "\u001b[1;31mKeyboardInterrupt\u001b[0m: "
     ]
    },
    {
     "name": "stderr",
     "output_type": "stream",
     "text": [
      "Exception ignored in: 'gurobipy.logcallbackstub'\n",
      "Traceback (most recent call last):\n",
      "  File \"e:\\anaconda\\envs\\Graduation\\Lib\\site-packages\\ipykernel\\iostream.py\", line 626, in write\n",
      "    def write(self, string: str) -> Optional[int]:  # type:ignore[override]\n",
      "\n",
      "KeyboardInterrupt: \n"
     ]
    },
    {
     "name": "stdout",
     "output_type": "stream",
     "text": [
      " 200141  2368     cutoff   46               -    0.00000      -   0.1  120s\n"
     ]
    }
   ],
   "source": [
    "# Limit how many solutions to collect\n",
    "model.setParam(GRB.Param.PoolSolutions, 10)\n",
    "\n",
    "# Limit the search space by setting a gap for the worst possible solution\n",
    "# that will be accepted\n",
    "model.setParam(GRB.Param.PoolGap, 0.10)\n",
    "\n",
    "# do a systematic search for the k-best solutions\n",
    "model.setParam(GRB.Param.PoolSearchMode, 2)\n",
    "\n",
    "\n",
    "# save problem\n",
    "model.write('poolsearch.lp')\n",
    "\n",
    "# Optimize\n",
    "model.optimize()\n",
    "\n",
    "model.setParam(GRB.Param.OutputFlag, 0)\n",
    "\n",
    "# Status checking\n",
    "status = model.Status\n",
    "if status in (GRB.INF_OR_UNBD, GRB.INFEASIBLE, GRB.UNBOUNDED):\n",
    "    print('The model cannot be solved because it is infeasible or unbounded')\n",
    "    sys.exit(1)\n",
    "\n",
    "if status != GRB.OPTIMAL:\n",
    "    print('Optimization was stopped with status ' + str(status))\n",
    "    sys.exit(1)\n",
    "\n",
    "# Print number of solutions stored\n",
    "nSolutions = model.SolCount\n",
    "print('Number of solutions found: ' + str(nSolutions))\n",
    "\n",
    "# Print objective values of solutions\n",
    "for e in range(nSolutions):\n",
    "    model.setParam(GRB.Param.SolutionNumber, e)\n",
    "    print('%g ' % model.PoolObjVal, end='')\n",
    "    if e % 15 == 14:\n",
    "        print('')\n",
    "print('')\n",
    "\n",
    "\n",
    "\n",
    "nSolution = model.SolCount\n",
    "\n",
    "for solution in range (nSolution):\n",
    "    model.setParam(GRB.Param.SolutionNumber, solution)\n",
    "    \n",
    "    for e in Groundset:\n",
    "        if Elem[e].Xn > .9:\n",
    "            print('E1%d' % e, end = ' ')\n",
    "    print('')\n",
    "\n"
   ]
  },
  {
   "cell_type": "code",
   "execution_count": null,
   "metadata": {},
   "outputs": [],
   "source": [
    "\n",
    "\n",
    "\n",
    "# model.computeIIS()\n",
    "# model.write(\"model1.ilp\")\n",
    "\n",
    "# Print out the IIS constraints and variables\n",
    "# print('\\nThe following constraints and variables are in the IIS:')\n",
    "# for c in model.getConstrs():\n",
    "#     if c.IISConstr: print(f'\\t{c.constrname}: {model.getRow(c)} {c.Sense} {c.RHS}')\n",
    "# \n",
    "# for v in model.getVars():\n",
    "#     if v.IISLB: print(f'\\t{v.varname} ≥ {v.LB}')\n",
    "#     if v.IISUB: print(f'\\t{v.varname} ≤ {v.UB}')"
   ]
  }
 ],
 "metadata": {
  "kernelspec": {
   "display_name": "Graduation",
   "language": "python",
   "name": "python3"
  },
  "language_info": {
   "codemirror_mode": {
    "name": "ipython",
    "version": 3
   },
   "file_extension": ".py",
   "mimetype": "text/x-python",
   "name": "python",
   "nbconvert_exporter": "python",
   "pygments_lexer": "ipython3",
   "version": "3.12.0"
  }
 },
 "nbformat": 4,
 "nbformat_minor": 2
}
